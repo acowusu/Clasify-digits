{
  "nbformat": 4,
  "nbformat_minor": 0,
  "metadata": {
    "colab": {
      "name": "classify digits.ipynb",
      "provenance": [],
      "toc_visible": true,
      "include_colab_link": true
    },
    "kernelspec": {
      "name": "python3",
      "display_name": "Python 3"
    },
    "accelerator": "GPU"
  },
  "cells": [
    {
      "cell_type": "markdown",
      "metadata": {
        "id": "view-in-github",
        "colab_type": "text"
      },
      "source": [
        "<a href=\"https://colab.research.google.com/github/penguinprogramer/Clasify-digits/blob/master/classify_digits.ipynb\" target=\"_parent\"><img src=\"https://colab.research.google.com/assets/colab-badge.svg\" alt=\"Open In Colab\"/></a>"
      ]
    },
    {
      "cell_type": "markdown",
      "metadata": {
        "id": "90X-QAgO3XA9",
        "colab_type": "text"
      },
      "source": [
        "# first firls we have to load  the images\n",
        "------------------\n"
      ]
    },
    {
      "cell_type": "markdown",
      "metadata": {
        "id": "L7DKvd6R4OC9",
        "colab_type": "text"
      },
      "source": [
        "Download images \n",
        "\n",
        "i created this datasel myself by writing a whole load of numbers down on paper. \n",
        "after that i scanned them in usuing a flatbed scanner\n",
        "\n",
        "then i used imagemagick to preprocess the images \n",
        "\n",
        "while it would have been al lit quicker to use a pre-existing dataset such as mnist, i thought it would be fun to create one from scratch"
      ]
    },
    {
      "cell_type": "code",
      "metadata": {
        "colab_type": "code",
        "id": "7-JR7WQ5O70X",
        "colab": {}
      },
      "source": [
        "!curl -O https://fadedace-gci.web.app/monodigits.zip\n",
        "!unzip monodigits.zip\n",
        "! rm digits/26.png\n",
        "! rm digits/33.png\n",
        "! rm digits/a.png\n",
        "! rm digits/split.rb # here i an removing left over bits that i used when separating up he image and preprocessing them"
      ],
      "execution_count": 0,
      "outputs": []
    },
    {
      "cell_type": "markdown",
      "metadata": {
        "id": "DRbRF6FF4UeY",
        "colab_type": "text"
      },
      "source": [
        "# Import required Packages\n"
      ]
    },
    {
      "cell_type": "code",
      "metadata": {
        "colab_type": "code",
        "id": "OGNpmn43C0O6",
        "colab": {
          "base_uri": "https://localhost:8080/",
          "height": 80
        },
        "outputId": "45e37c17-6fec-4eb9-ddaa-b3701c7893dd"
      },
      "source": [
        "from __future__ import absolute_import, division, print_function, unicode_literals\n",
        "from keras.preprocessing import image\n",
        "from tensorflow.keras import layers\n",
        "\n",
        "import matplotlib.pylab as plt\n",
        "\n",
        "import tensorflow as tf\n",
        "#tf.enable_eager_execution()\n",
        "\n",
        "import numpy as np\n",
        "import IPython.display as display\n",
        "from PIL import Image\n",
        "\n",
        "import pathlib\n",
        "data_dir = pathlib.Path(\"/content/digits\")\n"
      ],
      "execution_count": 2,
      "outputs": [
        {
          "output_type": "stream",
          "text": [
            "Using TensorFlow backend.\n"
          ],
          "name": "stderr"
        },
        {
          "output_type": "display_data",
          "data": {
            "text/html": [
              "<p style=\"color: red;\">\n",
              "The default version of TensorFlow in Colab will soon switch to TensorFlow 2.x.<br>\n",
              "We recommend you <a href=\"https://www.tensorflow.org/guide/migrate\" target=\"_blank\">upgrade</a> now \n",
              "or ensure your notebook will continue to use TensorFlow 1.x via the <code>%tensorflow_version 1.x</code> magic:\n",
              "<a href=\"https://colab.research.google.com/notebooks/tensorflow_version.ipynb\" target=\"_blank\">more info</a>.</p>\n"
            ],
            "text/plain": [
              "<IPython.core.display.HTML object>"
            ]
          },
          "metadata": {
            "tags": []
          }
        }
      ]
    },
    {
      "cell_type": "markdown",
      "metadata": {
        "id": "b8TTo2sieZqV",
        "colab_type": "text"
      },
      "source": [
        "lets get familiar with the dataset"
      ]
    },
    {
      "cell_type": "code",
      "metadata": {
        "id": "RPE3HniL7fug",
        "colab_type": "code",
        "colab": {}
      },
      "source": [
        "image_count = len(list(data_dir.glob('*/*.png')))\n",
        "CLASS_NAMES = np.array([item.name for item in data_dir.glob('*') if item.name != \"LICENSE.txt\"])\n"
      ],
      "execution_count": 0,
      "outputs": []
    },
    {
      "cell_type": "code",
      "metadata": {
        "id": "9cUbc5_Qc5nO",
        "colab_type": "code",
        "outputId": "a31320b9-eeea-4fa9-e330-1f907d99f1ae",
        "colab": {
          "base_uri": "https://localhost:8080/",
          "height": 51
        }
      },
      "source": [
        "print(image_count)\n",
        "\n",
        "print(CLASS_NAMES ) #lets briefly check we have a class for each didgit"
      ],
      "execution_count": 4,
      "outputs": [
        {
          "output_type": "stream",
          "text": [
            "2669\n",
            "['5' '1' '7' '9' '2' '4' '3' '0' '6' '8']\n"
          ],
          "name": "stdout"
        }
      ]
    },
    {
      "cell_type": "code",
      "metadata": {
        "id": "qokGKYIx8juC",
        "colab_type": "code",
        "outputId": "bcbb6230-4211-4c96-c8bf-60a576d68b58",
        "colab": {
          "base_uri": "https://localhost:8080/",
          "height": 107
        }
      },
      "source": [
        "zero = list(data_dir.glob('0/*'))\n",
        "\n",
        "for image_path in zero[:3]:\n",
        "    display.display(Image.open(str(image_path)))  #lets have a look at a few of our images"
      ],
      "execution_count": 5,
      "outputs": [
        {
          "output_type": "display_data",
          "data": {
            "image/png": "[encoded data removed]",
            "text/plain": [
              "<PIL.PngImagePlugin.PngImageFile image mode=1 size=30x30 at 0x7FA70DD60198>"
            ]
          },
          "metadata": {
            "tags": []
          }
        },
        {
          "output_type": "display_data",
          "data": {
            "image/png": "[encoded data removed]",
            "text/plain": [
              "<PIL.PngImagePlugin.PngImageFile image mode=1 size=30x30 at 0x7FA70DD165F8>"
            ]
          },
          "metadata": {
            "tags": []
          }
        },
        {
          "output_type": "display_data",
          "data": {
            "image/png": "[encoded data removed]",
            "text/plain": [
              "<PIL.PngImagePlugin.PngImageFile image mode=1 size=30x30 at 0x7FA70DD16630>"
            ]
          },
          "metadata": {
            "tags": []
          }
        }
      ]
    },
    {
      "cell_type": "code",
      "metadata": {
        "id": "G2XpqweM89n7",
        "colab_type": "code",
        "colab": {}
      },
      "source": [
        "image_generator = tf.keras.preprocessing.image.ImageDataGenerator(rescale=1./255, \n",
        "                                                                  \n",
        "                                                                  validation_split=0.2\n",
        "                                                                  )\n",
        "BATCH_SIZE = 10\n",
        "IMG_HEIGHT = 30 # the images are 30x30 px\n",
        "IMG_WIDTH = 30\n",
        "STEPS_PER_EPOCH = np.ceil(image_count/BATCH_SIZE)"
      ],
      "execution_count": 0,
      "outputs": []
    },
    {
      "cell_type": "code",
      "metadata": {
        "id": "IzaMsSEa9WyK",
        "colab_type": "code",
        "outputId": "e8a0e863-0a13-42f9-b613-17166bd69c35",
        "colab": {
          "base_uri": "https://localhost:8080/",
          "height": 51
        }
      },
      "source": [
        "\n",
        "train_generator = image_generator.flow_from_directory(directory=str(data_dir),\n",
        "                                                     batch_size=BATCH_SIZE,\n",
        "                                                     shuffle=True, #this is important as the model may not generalise well if it learns the order of thetraining data \n",
        "                                                     target_size=(IMG_HEIGHT, IMG_WIDTH),\n",
        "                                                     classes = list(CLASS_NAMES),\n",
        "\n",
        "    subset='training') # set as training data\n",
        "\n",
        "validation_generator = image_generator.flow_from_directory(directory=str(data_dir),\n",
        "                                                     batch_size=BATCH_SIZE,\n",
        "                                                     shuffle=True,\n",
        "                                                     target_size=(IMG_HEIGHT, IMG_WIDTH),\n",
        "                                                     classes = list(CLASS_NAMES),\n",
        "    subset='validation') # set as validation data"
      ],
      "execution_count": 7,
      "outputs": [
        {
          "output_type": "stream",
          "text": [
            "Found 2142 images belonging to 10 classes.\n",
            "Found 527 images belonging to 10 classes.\n"
          ],
          "name": "stdout"
        }
      ]
    },
    {
      "cell_type": "code",
      "metadata": {
        "id": "Bkqopn47CTp9",
        "colab_type": "code",
        "outputId": "ff0534d2-55a7-41ee-e99a-7c30ed9fea67",
        "colab": {
          "base_uri": "https://localhost:8080/",
          "height": 34
        }
      },
      "source": [
        "train_generator.image_shape"
      ],
      "execution_count": 8,
      "outputs": [
        {
          "output_type": "execute_result",
          "data": {
            "text/plain": [
              "(30, 30, 3)"
            ]
          },
          "metadata": {
            "tags": []
          },
          "execution_count": 8
        }
      ]
    },
    {
      "cell_type": "code",
      "metadata": {
        "id": "BvmirIgW_iBj",
        "colab_type": "code",
        "colab": {
          "base_uri": "https://localhost:8080/",
          "height": 88
        },
        "outputId": "75be3241-ef84-4718-841c-8d2af046f73b"
      },
      "source": [
        "IMG_SHAPE = (IMG_HEIGHT, IMG_WIDTH, 3)\n",
        "\n",
        "\n",
        "\n",
        " #lets set up the model\n",
        "model =tf.keras.Sequential()\n",
        "model.add(layers.Conv2D(30, (3, 3), activation='relu', input_shape=IMG_SHAPE))\n",
        "model.add(layers.MaxPooling2D((2, 2)))\n",
        "model.add(layers.Conv2D(64, (3, 3), activation='relu'))\n",
        "model.add(layers.MaxPooling2D((2, 2)))\n",
        "model.add(layers.Conv2D(64, (3, 3), activation='relu'))\n",
        "model.add(layers.GlobalAveragePooling2D())\n",
        "model.add(layers.Dense(10)) # since there are 10 output classes\n"
      ],
      "execution_count": 9,
      "outputs": [
        {
          "output_type": "stream",
          "text": [
            "WARNING:tensorflow:From /usr/local/lib/python3.6/dist-packages/tensorflow_core/python/ops/resource_variable_ops.py:1630: calling BaseResourceVariable.__init__ (from tensorflow.python.ops.resource_variable_ops) with constraint is deprecated and will be removed in a future version.\n",
            "Instructions for updating:\n",
            "If using Keras pass *_constraint arguments to layers.\n"
          ],
          "name": "stdout"
        }
      ]
    },
    {
      "cell_type": "code",
      "metadata": {
        "id": "7GVsfUq-M9lJ",
        "colab_type": "code",
        "colab": {}
      },
      "source": [
        "base_learning_rate = 0.001\n",
        "model.compile(\n",
        "  loss='mean_squared_error', optimizer='sgd', #this is one of the simplest loss functios and optimisers but it works well enough for our purposes\n",
        "  metrics=['accuracy'])\n"
      ],
      "execution_count": 0,
      "outputs": []
    },
    {
      "cell_type": "code",
      "metadata": {
        "id": "34Xp5B7ONB2D",
        "colab_type": "code",
        "outputId": "cd3f4668-2d6f-4d7e-fd5c-2a3ead6a8c40",
        "colab": {
          "base_uri": "https://localhost:8080/",
          "height": 391
        }
      },
      "source": [
        "model.summary()\n"
      ],
      "execution_count": 11,
      "outputs": [
        {
          "output_type": "stream",
          "text": [
            "Model: \"sequential\"\n",
            "_________________________________________________________________\n",
            "Layer (type)                 Output Shape              Param #   \n",
            "=================================================================\n",
            "conv2d (Conv2D)              (None, 28, 28, 30)        840       \n",
            "_________________________________________________________________\n",
            "max_pooling2d (MaxPooling2D) (None, 14, 14, 30)        0         \n",
            "_________________________________________________________________\n",
            "conv2d_1 (Conv2D)            (None, 12, 12, 64)        17344     \n",
            "_________________________________________________________________\n",
            "max_pooling2d_1 (MaxPooling2 (None, 6, 6, 64)          0         \n",
            "_________________________________________________________________\n",
            "conv2d_2 (Conv2D)            (None, 4, 4, 64)          36928     \n",
            "_________________________________________________________________\n",
            "global_average_pooling2d (Gl (None, 64)                0         \n",
            "_________________________________________________________________\n",
            "dense (Dense)                (None, 10)                650       \n",
            "=================================================================\n",
            "Total params: 55,762\n",
            "Trainable params: 55,762\n",
            "Non-trainable params: 0\n",
            "_________________________________________________________________\n"
          ],
          "name": "stdout"
        }
      ]
    },
    {
      "cell_type": "code",
      "metadata": {
        "id": "DrpaEblDNTCm",
        "colab_type": "code",
        "colab": {
          "base_uri": "https://localhost:8080/",
          "height": 1000
        },
        "outputId": "0f839f28-3fdd-4c24-bfe7-5c13fb18cd9b"
      },
      "source": [
        "EPOCHS = 200 # with around 100 epocs i got an accuracy of about 90%\n",
        "history = model.fit_generator(\n",
        "    train_generator,\n",
        "    steps_per_epoch=STEPS_PER_EPOCH ,\n",
        "    epochs=EPOCHS,\n",
        "    validation_data=validation_generator,\n",
        "    validation_steps=200 // BATCH_SIZE\n",
        ")"
      ],
      "execution_count": 12,
      "outputs": [
        {
          "output_type": "stream",
          "text": [
            "Epoch 1/200\n",
            "266/267 [============================>.] - ETA: 0s - loss: 0.0931 - acc: 0.0881Epoch 1/200\n",
            "267/267 [==============================] - 7s 25ms/step - loss: 0.0931 - acc: 0.0882 - val_loss: 0.0903 - val_acc: 0.0800\n",
            "Epoch 2/200\n",
            "263/267 [============================>.] - ETA: 0s - loss: 0.0897 - acc: 0.1079Epoch 1/200\n",
            "267/267 [==============================] - 3s 12ms/step - loss: 0.0897 - acc: 0.1097 - val_loss: 0.0897 - val_acc: 0.1350\n",
            "Epoch 3/200\n",
            "265/267 [============================>.] - ETA: 0s - loss: 0.0892 - acc: 0.1741Epoch 1/200\n",
            "267/267 [==============================] - 3s 12ms/step - loss: 0.0892 - acc: 0.1754 - val_loss: 0.0894 - val_acc: 0.1200\n",
            "Epoch 4/200\n",
            "265/267 [============================>.] - ETA: 0s - loss: 0.0887 - acc: 0.1995Epoch 1/200\n",
            "267/267 [==============================] - 3s 12ms/step - loss: 0.0887 - acc: 0.1995 - val_loss: 0.0888 - val_acc: 0.1200\n",
            "Epoch 5/200\n",
            "266/267 [============================>.] - ETA: 0s - loss: 0.0881 - acc: 0.2424Epoch 1/200\n",
            "267/267 [==============================] - 3s 12ms/step - loss: 0.0881 - acc: 0.2434 - val_loss: 0.0884 - val_acc: 0.2450\n",
            "Epoch 6/200\n",
            "265/267 [============================>.] - ETA: 0s - loss: 0.0876 - acc: 0.2702Epoch 1/200\n",
            "267/267 [==============================] - 3s 12ms/step - loss: 0.0876 - acc: 0.2693 - val_loss: 0.0880 - val_acc: 0.1950\n",
            "Epoch 7/200\n",
            "263/267 [============================>.] - ETA: 0s - loss: 0.0869 - acc: 0.2858Epoch 1/200\n",
            "267/267 [==============================] - 3s 12ms/step - loss: 0.0869 - acc: 0.2849 - val_loss: 0.0874 - val_acc: 0.2850\n",
            "Epoch 8/200\n",
            "266/267 [============================>.] - ETA: 0s - loss: 0.0864 - acc: 0.2898Epoch 1/200\n",
            "267/267 [==============================] - 3s 12ms/step - loss: 0.0864 - acc: 0.2895 - val_loss: 0.0868 - val_acc: 0.2600\n",
            "Epoch 9/200\n",
            "266/267 [============================>.] - ETA: 0s - loss: 0.0857 - acc: 0.3067Epoch 1/200\n",
            "267/267 [==============================] - 3s 12ms/step - loss: 0.0857 - acc: 0.3063 - val_loss: 0.0864 - val_acc: 0.2300\n",
            "Epoch 10/200\n",
            "264/267 [============================>.] - ETA: 0s - loss: 0.0848 - acc: 0.3283Epoch 1/200\n",
            "267/267 [==============================] - 3s 12ms/step - loss: 0.0848 - acc: 0.3276 - val_loss: 0.0854 - val_acc: 0.2600\n",
            "Epoch 11/200\n",
            "261/267 [============================>.] - ETA: 0s - loss: 0.0842 - acc: 0.3086Epoch 1/200\n",
            "267/267 [==============================] - 3s 12ms/step - loss: 0.0842 - acc: 0.3077 - val_loss: 0.0846 - val_acc: 0.2500\n",
            "Epoch 12/200\n",
            "262/267 [============================>.] - ETA: 0s - loss: 0.0834 - acc: 0.3126Epoch 1/200\n",
            "267/267 [==============================] - 3s 12ms/step - loss: 0.0833 - acc: 0.3139 - val_loss: 0.0841 - val_acc: 0.3050\n",
            "Epoch 13/200\n",
            "266/267 [============================>.] - ETA: 0s - loss: 0.0825 - acc: 0.3326Epoch 1/200\n",
            "267/267 [==============================] - 3s 12ms/step - loss: 0.0825 - acc: 0.3328 - val_loss: 0.0832 - val_acc: 0.3100\n",
            "Epoch 14/200\n",
            "264/267 [============================>.] - ETA: 0s - loss: 0.0817 - acc: 0.3412Epoch 1/200\n",
            "267/267 [==============================] - 3s 12ms/step - loss: 0.0817 - acc: 0.3414 - val_loss: 0.0825 - val_acc: 0.2700\n",
            "Epoch 15/200\n",
            "265/267 [============================>.] - ETA: 0s - loss: 0.0812 - acc: 0.3419Epoch 1/200\n",
            "267/267 [==============================] - 3s 12ms/step - loss: 0.0812 - acc: 0.3397 - val_loss: 0.0823 - val_acc: 0.3300\n",
            "Epoch 16/200\n",
            "266/267 [============================>.] - ETA: 0s - loss: 0.0805 - acc: 0.3442Epoch 1/200\n",
            "267/267 [==============================] - 3s 12ms/step - loss: 0.0805 - acc: 0.3440 - val_loss: 0.0813 - val_acc: 0.3400\n",
            "Epoch 17/200\n",
            "265/267 [============================>.] - ETA: 0s - loss: 0.0797 - acc: 0.3516Epoch 1/200\n",
            "267/267 [==============================] - 3s 12ms/step - loss: 0.0797 - acc: 0.3527 - val_loss: 0.0809 - val_acc: 0.3150\n",
            "Epoch 18/200\n",
            "266/267 [============================>.] - ETA: 0s - loss: 0.0793 - acc: 0.3434Epoch 1/200\n",
            "267/267 [==============================] - 3s 12ms/step - loss: 0.0793 - acc: 0.3429 - val_loss: 0.0804 - val_acc: 0.4150\n",
            "Epoch 19/200\n",
            "263/267 [============================>.] - ETA: 0s - loss: 0.0784 - acc: 0.3745Epoch 1/200\n",
            "267/267 [==============================] - 3s 12ms/step - loss: 0.0784 - acc: 0.3742 - val_loss: 0.0798 - val_acc: 0.3900\n",
            "Epoch 20/200\n",
            "264/267 [============================>.] - ETA: 0s - loss: 0.0782 - acc: 0.3838Epoch 1/200\n",
            "267/267 [==============================] - 3s 12ms/step - loss: 0.0782 - acc: 0.3843 - val_loss: 0.0796 - val_acc: 0.3000\n",
            "Epoch 21/200\n",
            "262/267 [============================>.] - ETA: 0s - loss: 0.0773 - acc: 0.3848Epoch 1/200\n",
            "267/267 [==============================] - 3s 12ms/step - loss: 0.0773 - acc: 0.3828 - val_loss: 0.0791 - val_acc: 0.3950\n",
            "Epoch 22/200\n",
            "266/267 [============================>.] - ETA: 0s - loss: 0.0769 - acc: 0.4129Epoch 1/200\n",
            "267/267 [==============================] - 3s 12ms/step - loss: 0.0770 - acc: 0.4125 - val_loss: 0.0788 - val_acc: 0.4450\n",
            "Epoch 23/200\n",
            "263/267 [============================>.] - ETA: 0s - loss: 0.0768 - acc: 0.3928Epoch 1/200\n",
            "267/267 [==============================] - 3s 12ms/step - loss: 0.0768 - acc: 0.3929 - val_loss: 0.0783 - val_acc: 0.4500\n",
            "Epoch 24/200\n",
            "262/267 [============================>.] - ETA: 0s - loss: 0.0759 - acc: 0.4363Epoch 1/200\n",
            "267/267 [==============================] - 3s 12ms/step - loss: 0.0759 - acc: 0.4359 - val_loss: 0.0778 - val_acc: 0.4200\n",
            "Epoch 25/200\n",
            "264/267 [============================>.] - ETA: 0s - loss: 0.0756 - acc: 0.4358Epoch 1/200\n",
            "267/267 [==============================] - 3s 12ms/step - loss: 0.0756 - acc: 0.4354 - val_loss: 0.0773 - val_acc: 0.3600\n",
            "Epoch 26/200\n",
            "263/267 [============================>.] - ETA: 0s - loss: 0.0750 - acc: 0.4438Epoch 1/200\n",
            "267/267 [==============================] - 3s 11ms/step - loss: 0.0750 - acc: 0.4446 - val_loss: 0.0765 - val_acc: 0.4650\n",
            "Epoch 27/200\n",
            "265/267 [============================>.] - ETA: 0s - loss: 0.0747 - acc: 0.4740Epoch 1/200\n",
            "267/267 [==============================] - 3s 12ms/step - loss: 0.0747 - acc: 0.4745 - val_loss: 0.0763 - val_acc: 0.5450\n",
            "Epoch 28/200\n",
            "266/267 [============================>.] - ETA: 0s - loss: 0.0741 - acc: 0.4823Epoch 1/200\n",
            "267/267 [==============================] - 3s 12ms/step - loss: 0.0741 - acc: 0.4823 - val_loss: 0.0755 - val_acc: 0.5150\n",
            "Epoch 29/200\n",
            "265/267 [============================>.] - ETA: 0s - loss: 0.0736 - acc: 0.4882Epoch 1/200\n",
            "267/267 [==============================] - 3s 12ms/step - loss: 0.0736 - acc: 0.4894 - val_loss: 0.0751 - val_acc: 0.4650\n",
            "Epoch 30/200\n",
            "263/267 [============================>.] - ETA: 0s - loss: 0.0731 - acc: 0.4973Epoch 1/200\n",
            "267/267 [==============================] - 3s 12ms/step - loss: 0.0732 - acc: 0.4970 - val_loss: 0.0743 - val_acc: 0.5750\n",
            "Epoch 31/200\n",
            "264/267 [============================>.] - ETA: 0s - loss: 0.0727 - acc: 0.5148Epoch 1/200\n",
            "267/267 [==============================] - 3s 12ms/step - loss: 0.0727 - acc: 0.5165 - val_loss: 0.0738 - val_acc: 0.5500\n",
            "Epoch 32/200\n",
            "264/267 [============================>.] - ETA: 0s - loss: 0.0721 - acc: 0.5429Epoch 1/200\n",
            "267/267 [==============================] - 3s 12ms/step - loss: 0.0721 - acc: 0.5421 - val_loss: 0.0734 - val_acc: 0.5300\n",
            "Epoch 33/200\n",
            "265/267 [============================>.] - ETA: 0s - loss: 0.0715 - acc: 0.5477Epoch 1/200\n",
            "267/267 [==============================] - 3s 12ms/step - loss: 0.0715 - acc: 0.5470 - val_loss: 0.0729 - val_acc: 0.5750\n",
            "Epoch 34/200\n",
            "264/267 [============================>.] - ETA: 0s - loss: 0.0709 - acc: 0.5661Epoch 1/200\n",
            "267/267 [==============================] - 3s 12ms/step - loss: 0.0709 - acc: 0.5672 - val_loss: 0.0725 - val_acc: 0.5350\n",
            "Epoch 35/200\n",
            "266/267 [============================>.] - ETA: 0s - loss: 0.0708 - acc: 0.5533Epoch 1/200\n",
            "267/267 [==============================] - 3s 12ms/step - loss: 0.0708 - acc: 0.5535 - val_loss: 0.0715 - val_acc: 0.6100\n",
            "Epoch 36/200\n",
            "265/267 [============================>.] - ETA: 0s - loss: 0.0697 - acc: 0.5825Epoch 1/200\n",
            "267/267 [==============================] - 3s 12ms/step - loss: 0.0697 - acc: 0.5830 - val_loss: 0.0719 - val_acc: 0.6200\n",
            "Epoch 37/200\n",
            "264/267 [============================>.] - ETA: 0s - loss: 0.0694 - acc: 0.6041Epoch 1/200\n",
            "267/267 [==============================] - 3s 12ms/step - loss: 0.0694 - acc: 0.6029 - val_loss: 0.0705 - val_acc: 0.6100\n",
            "Epoch 38/200\n",
            "266/267 [============================>.] - ETA: 0s - loss: 0.0689 - acc: 0.5992Epoch 1/200\n",
            "267/267 [==============================] - 3s 12ms/step - loss: 0.0689 - acc: 0.5984 - val_loss: 0.0704 - val_acc: 0.6050\n",
            "Epoch 39/200\n",
            "264/267 [============================>.] - ETA: 0s - loss: 0.0683 - acc: 0.6296Epoch 1/200\n",
            "267/267 [==============================] - 3s 12ms/step - loss: 0.0683 - acc: 0.6304 - val_loss: 0.0697 - val_acc: 0.6550\n",
            "Epoch 40/200\n",
            "266/267 [============================>.] - ETA: 0s - loss: 0.0680 - acc: 0.6244Epoch 1/200\n",
            "267/267 [==============================] - 3s 12ms/step - loss: 0.0680 - acc: 0.6243 - val_loss: 0.0698 - val_acc: 0.6700\n",
            "Epoch 41/200\n",
            "263/267 [============================>.] - ETA: 0s - loss: 0.0667 - acc: 0.6548Epoch 1/200\n",
            "267/267 [==============================] - 3s 12ms/step - loss: 0.0668 - acc: 0.6510 - val_loss: 0.0687 - val_acc: 0.6600\n",
            "Epoch 42/200\n",
            "263/267 [============================>.] - ETA: 0s - loss: 0.0665 - acc: 0.6568Epoch 1/200\n",
            "267/267 [==============================] - 3s 12ms/step - loss: 0.0666 - acc: 0.6551 - val_loss: 0.0684 - val_acc: 0.6500\n",
            "Epoch 43/200\n",
            "265/267 [============================>.] - ETA: 0s - loss: 0.0657 - acc: 0.6625Epoch 1/200\n",
            "267/267 [==============================] - 3s 12ms/step - loss: 0.0658 - acc: 0.6628 - val_loss: 0.0677 - val_acc: 0.6700\n",
            "Epoch 44/200\n",
            "266/267 [============================>.] - ETA: 0s - loss: 0.0654 - acc: 0.6748Epoch 1/200\n",
            "267/267 [==============================] - 3s 12ms/step - loss: 0.0654 - acc: 0.6745 - val_loss: 0.0670 - val_acc: 0.6400\n",
            "Epoch 45/200\n",
            "262/267 [============================>.] - ETA: 0s - loss: 0.0649 - acc: 0.6763Epoch 1/200\n",
            "267/267 [==============================] - 3s 12ms/step - loss: 0.0650 - acc: 0.6748 - val_loss: 0.0662 - val_acc: 0.6850\n",
            "Epoch 46/200\n",
            "266/267 [============================>.] - ETA: 0s - loss: 0.0639 - acc: 0.6900Epoch 1/200\n",
            "267/267 [==============================] - 3s 12ms/step - loss: 0.0639 - acc: 0.6897 - val_loss: 0.0652 - val_acc: 0.6700\n",
            "Epoch 47/200\n",
            "264/267 [============================>.] - ETA: 0s - loss: 0.0634 - acc: 0.7017Epoch 1/200\n",
            "267/267 [==============================] - 3s 12ms/step - loss: 0.0634 - acc: 0.7029 - val_loss: 0.0655 - val_acc: 0.6650\n",
            "Epoch 48/200\n",
            "266/267 [============================>.] - ETA: 0s - loss: 0.0629 - acc: 0.7112Epoch 1/200\n",
            "267/267 [==============================] - 3s 12ms/step - loss: 0.0629 - acc: 0.7104 - val_loss: 0.0648 - val_acc: 0.7050\n",
            "Epoch 49/200\n",
            "264/267 [============================>.] - ETA: 0s - loss: 0.0623 - acc: 0.7210Epoch 1/200\n",
            "267/267 [==============================] - 3s 12ms/step - loss: 0.0623 - acc: 0.7200 - val_loss: 0.0645 - val_acc: 0.6550\n",
            "Epoch 50/200\n",
            "263/267 [============================>.] - ETA: 0s - loss: 0.0617 - acc: 0.7285Epoch 1/200\n",
            "267/267 [==============================] - 3s 12ms/step - loss: 0.0618 - acc: 0.7280 - val_loss: 0.0641 - val_acc: 0.6850\n",
            "Epoch 51/200\n",
            "264/267 [============================>.] - ETA: 0s - loss: 0.0611 - acc: 0.7310Epoch 1/200\n",
            "267/267 [==============================] - 3s 12ms/step - loss: 0.0611 - acc: 0.7303 - val_loss: 0.0626 - val_acc: 0.7000\n",
            "Epoch 52/200\n",
            "266/267 [============================>.] - ETA: 0s - loss: 0.0601 - acc: 0.7492Epoch 1/200\n",
            "267/267 [==============================] - 3s 12ms/step - loss: 0.0601 - acc: 0.7487 - val_loss: 0.0622 - val_acc: 0.6900\n",
            "Epoch 53/200\n",
            "265/267 [============================>.] - ETA: 0s - loss: 0.0600 - acc: 0.7403Epoch 1/200\n",
            "267/267 [==============================] - 3s 12ms/step - loss: 0.0600 - acc: 0.7397 - val_loss: 0.0626 - val_acc: 0.7150\n",
            "Epoch 54/200\n",
            "266/267 [============================>.] - ETA: 0s - loss: 0.0590 - acc: 0.7602Epoch 1/200\n",
            "267/267 [==============================] - 3s 13ms/step - loss: 0.0591 - acc: 0.7600 - val_loss: 0.0612 - val_acc: 0.7050\n",
            "Epoch 55/200\n",
            "264/267 [============================>.] - ETA: 0s - loss: 0.0584 - acc: 0.7622Epoch 1/200\n",
            "267/267 [==============================] - 3s 12ms/step - loss: 0.0585 - acc: 0.7607 - val_loss: 0.0609 - val_acc: 0.6950\n",
            "Epoch 56/200\n",
            "266/267 [============================>.] - ETA: 0s - loss: 0.0575 - acc: 0.7673Epoch 1/200\n",
            "267/267 [==============================] - 3s 12ms/step - loss: 0.0575 - acc: 0.7678 - val_loss: 0.0606 - val_acc: 0.7100\n",
            "Epoch 57/200\n",
            "263/267 [============================>.] - ETA: 0s - loss: 0.0575 - acc: 0.7686Epoch 1/200\n",
            "267/267 [==============================] - 3s 12ms/step - loss: 0.0575 - acc: 0.7679 - val_loss: 0.0593 - val_acc: 0.7400\n",
            "Epoch 58/200\n",
            "262/267 [============================>.] - ETA: 0s - loss: 0.0566 - acc: 0.7822Epoch 1/200\n",
            "267/267 [==============================] - 3s 12ms/step - loss: 0.0566 - acc: 0.7825 - val_loss: 0.0587 - val_acc: 0.7400\n",
            "Epoch 59/200\n",
            "262/267 [============================>.] - ETA: 0s - loss: 0.0557 - acc: 0.7949Epoch 1/200\n",
            "267/267 [==============================] - 3s 12ms/step - loss: 0.0557 - acc: 0.7939 - val_loss: 0.0579 - val_acc: 0.7250\n",
            "Epoch 60/200\n",
            "264/267 [============================>.] - ETA: 0s - loss: 0.0557 - acc: 0.7945Epoch 1/200\n",
            "267/267 [==============================] - 3s 12ms/step - loss: 0.0558 - acc: 0.7923 - val_loss: 0.0588 - val_acc: 0.7200\n",
            "Epoch 61/200\n",
            "265/267 [============================>.] - ETA: 0s - loss: 0.0542 - acc: 0.8002Epoch 1/200\n",
            "267/267 [==============================] - 3s 12ms/step - loss: 0.0542 - acc: 0.8002 - val_loss: 0.0578 - val_acc: 0.7200\n",
            "Epoch 62/200\n",
            "264/267 [============================>.] - ETA: 0s - loss: 0.0544 - acc: 0.8074Epoch 1/200\n",
            "267/267 [==============================] - 3s 12ms/step - loss: 0.0544 - acc: 0.8069 - val_loss: 0.0562 - val_acc: 0.7500\n",
            "Epoch 63/200\n",
            "262/267 [============================>.] - ETA: 0s - loss: 0.0535 - acc: 0.8139Epoch 1/200\n",
            "267/267 [==============================] - 3s 13ms/step - loss: 0.0536 - acc: 0.8122 - val_loss: 0.0564 - val_acc: 0.7500\n",
            "Epoch 64/200\n",
            "266/267 [============================>.] - ETA: 0s - loss: 0.0530 - acc: 0.8171Epoch 1/200\n",
            "267/267 [==============================] - 3s 12ms/step - loss: 0.0530 - acc: 0.8178 - val_loss: 0.0559 - val_acc: 0.7450\n",
            "Epoch 65/200\n",
            "265/267 [============================>.] - ETA: 0s - loss: 0.0523 - acc: 0.8269Epoch 1/200\n",
            "267/267 [==============================] - 3s 12ms/step - loss: 0.0523 - acc: 0.8263 - val_loss: 0.0558 - val_acc: 0.7350\n",
            "Epoch 66/200\n",
            "263/267 [============================>.] - ETA: 0s - loss: 0.0518 - acc: 0.8326Epoch 1/200\n",
            "267/267 [==============================] - 3s 12ms/step - loss: 0.0517 - acc: 0.8343 - val_loss: 0.0539 - val_acc: 0.7800\n",
            "Epoch 67/200\n",
            "264/267 [============================>.] - ETA: 0s - loss: 0.0513 - acc: 0.8359Epoch 1/200\n",
            "267/267 [==============================] - 3s 12ms/step - loss: 0.0513 - acc: 0.8362 - val_loss: 0.0554 - val_acc: 0.7500\n",
            "Epoch 68/200\n",
            "266/267 [============================>.] - ETA: 0s - loss: 0.0507 - acc: 0.8424Epoch 1/200\n",
            "267/267 [==============================] - 3s 12ms/step - loss: 0.0507 - acc: 0.8422 - val_loss: 0.0538 - val_acc: 0.7700\n",
            "Epoch 69/200\n",
            "266/267 [============================>.] - ETA: 0s - loss: 0.0500 - acc: 0.8409Epoch 1/200\n",
            "267/267 [==============================] - 3s 12ms/step - loss: 0.0500 - acc: 0.8400 - val_loss: 0.0531 - val_acc: 0.7650\n",
            "Epoch 70/200\n",
            "262/267 [============================>.] - ETA: 0s - loss: 0.0499 - acc: 0.8548Epoch 1/200\n",
            "267/267 [==============================] - 3s 12ms/step - loss: 0.0499 - acc: 0.8546 - val_loss: 0.0528 - val_acc: 0.8100\n",
            "Epoch 71/200\n",
            "263/267 [============================>.] - ETA: 0s - loss: 0.0490 - acc: 0.8558Epoch 1/200\n",
            "267/267 [==============================] - 3s 12ms/step - loss: 0.0490 - acc: 0.8561 - val_loss: 0.0524 - val_acc: 0.8100\n",
            "Epoch 72/200\n",
            "266/267 [============================>.] - ETA: 0s - loss: 0.0487 - acc: 0.8548Epoch 1/200\n",
            "267/267 [==============================] - 3s 12ms/step - loss: 0.0488 - acc: 0.8539 - val_loss: 0.0526 - val_acc: 0.7350\n",
            "Epoch 73/200\n",
            "263/267 [============================>.] - ETA: 0s - loss: 0.0483 - acc: 0.8569Epoch 1/200\n",
            "267/267 [==============================] - 3s 12ms/step - loss: 0.0484 - acc: 0.8568 - val_loss: 0.0517 - val_acc: 0.8200\n",
            "Epoch 74/200\n",
            "262/267 [============================>.] - ETA: 0s - loss: 0.0473 - acc: 0.8721Epoch 1/200\n",
            "267/267 [==============================] - 3s 12ms/step - loss: 0.0473 - acc: 0.8734 - val_loss: 0.0508 - val_acc: 0.8100\n",
            "Epoch 75/200\n",
            "263/267 [============================>.] - ETA: 0s - loss: 0.0472 - acc: 0.8749Epoch 1/200\n",
            "267/267 [==============================] - 3s 12ms/step - loss: 0.0472 - acc: 0.8753 - val_loss: 0.0505 - val_acc: 0.8200\n",
            "Epoch 76/200\n",
            "262/267 [============================>.] - ETA: 0s - loss: 0.0466 - acc: 0.8721Epoch 1/200\n",
            "267/267 [==============================] - 3s 12ms/step - loss: 0.0466 - acc: 0.8727 - val_loss: 0.0513 - val_acc: 0.8000\n",
            "Epoch 77/200\n",
            "262/267 [============================>.] - ETA: 0s - loss: 0.0462 - acc: 0.8752Epoch 1/200\n",
            "267/267 [==============================] - 3s 12ms/step - loss: 0.0462 - acc: 0.8745 - val_loss: 0.0500 - val_acc: 0.8200\n",
            "Epoch 78/200\n",
            "265/267 [============================>.] - ETA: 0s - loss: 0.0457 - acc: 0.8880Epoch 1/200\n",
            "267/267 [==============================] - 3s 12ms/step - loss: 0.0457 - acc: 0.8881 - val_loss: 0.0495 - val_acc: 0.8150\n",
            "Epoch 79/200\n",
            "265/267 [============================>.] - ETA: 0s - loss: 0.0446 - acc: 0.8944Epoch 1/200\n",
            "267/267 [==============================] - 3s 12ms/step - loss: 0.0447 - acc: 0.8948 - val_loss: 0.0499 - val_acc: 0.8100\n",
            "Epoch 80/200\n",
            "264/267 [============================>.] - ETA: 0s - loss: 0.0449 - acc: 0.8826Epoch 1/200\n",
            "267/267 [==============================] - 3s 12ms/step - loss: 0.0449 - acc: 0.8828 - val_loss: 0.0494 - val_acc: 0.8050\n",
            "Epoch 81/200\n",
            "262/267 [============================>.] - ETA: 0s - loss: 0.0441 - acc: 0.8886Epoch 1/200\n",
            "267/267 [==============================] - 3s 12ms/step - loss: 0.0441 - acc: 0.8888 - val_loss: 0.0475 - val_acc: 0.8650\n",
            "Epoch 82/200\n",
            "263/267 [============================>.] - ETA: 0s - loss: 0.0437 - acc: 0.9005Epoch 1/200\n",
            "267/267 [==============================] - 3s 12ms/step - loss: 0.0437 - acc: 0.9008 - val_loss: 0.0473 - val_acc: 0.8550\n",
            "Epoch 83/200\n",
            "262/267 [============================>.] - ETA: 0s - loss: 0.0431 - acc: 0.9066Epoch 1/200\n",
            "267/267 [==============================] - 3s 12ms/step - loss: 0.0431 - acc: 0.9065 - val_loss: 0.0475 - val_acc: 0.8350\n",
            "Epoch 84/200\n",
            "266/267 [============================>.] - ETA: 0s - loss: 0.0427 - acc: 0.9061Epoch 1/200\n",
            "267/267 [==============================] - 3s 12ms/step - loss: 0.0426 - acc: 0.9057 - val_loss: 0.0462 - val_acc: 0.8750\n",
            "Epoch 85/200\n",
            "265/267 [============================>.] - ETA: 0s - loss: 0.0422 - acc: 0.9073Epoch 1/200\n",
            "267/267 [==============================] - 3s 12ms/step - loss: 0.0422 - acc: 0.9068 - val_loss: 0.0468 - val_acc: 0.8350\n",
            "Epoch 86/200\n",
            "266/267 [============================>.] - ETA: 0s - loss: 0.0418 - acc: 0.9077Epoch 1/200\n",
            "267/267 [==============================] - 3s 12ms/step - loss: 0.0418 - acc: 0.9077 - val_loss: 0.0469 - val_acc: 0.8500\n",
            "Epoch 87/200\n",
            "264/267 [============================>.] - ETA: 0s - loss: 0.0414 - acc: 0.9122Epoch 1/200\n",
            "267/267 [==============================] - 3s 12ms/step - loss: 0.0414 - acc: 0.9121 - val_loss: 0.0455 - val_acc: 0.8550\n",
            "Epoch 88/200\n",
            "262/267 [============================>.] - ETA: 0s - loss: 0.0413 - acc: 0.9077Epoch 1/200\n",
            "267/267 [==============================] - 3s 12ms/step - loss: 0.0413 - acc: 0.9068 - val_loss: 0.0449 - val_acc: 0.8500\n",
            "Epoch 89/200\n",
            "264/267 [============================>.] - ETA: 0s - loss: 0.0404 - acc: 0.9230Epoch 1/200\n",
            "267/267 [==============================] - 3s 12ms/step - loss: 0.0405 - acc: 0.9235 - val_loss: 0.0447 - val_acc: 0.8750\n",
            "Epoch 90/200\n",
            "266/267 [============================>.] - ETA: 0s - loss: 0.0398 - acc: 0.9227Epoch 1/200\n",
            "267/267 [==============================] - 3s 12ms/step - loss: 0.0398 - acc: 0.9230 - val_loss: 0.0441 - val_acc: 0.8600\n",
            "Epoch 91/200\n",
            "266/267 [============================>.] - ETA: 0s - loss: 0.0397 - acc: 0.9231Epoch 1/200\n",
            "267/267 [==============================] - 3s 13ms/step - loss: 0.0396 - acc: 0.9234 - val_loss: 0.0442 - val_acc: 0.8600\n",
            "Epoch 92/200\n",
            "266/267 [============================>.] - ETA: 0s - loss: 0.0390 - acc: 0.9262Epoch 1/200\n",
            "267/267 [==============================] - 3s 12ms/step - loss: 0.0390 - acc: 0.9265 - val_loss: 0.0427 - val_acc: 0.8800\n",
            "Epoch 93/200\n",
            "266/267 [============================>.] - ETA: 0s - loss: 0.0386 - acc: 0.9276Epoch 1/200\n",
            "267/267 [==============================] - 3s 12ms/step - loss: 0.0386 - acc: 0.9275 - val_loss: 0.0433 - val_acc: 0.8900\n",
            "Epoch 94/200\n",
            "263/267 [============================>.] - ETA: 0s - loss: 0.0386 - acc: 0.9300Epoch 1/200\n",
            "267/267 [==============================] - 3s 12ms/step - loss: 0.0386 - acc: 0.9307 - val_loss: 0.0425 - val_acc: 0.8850\n",
            "Epoch 95/200\n",
            "266/267 [============================>.] - ETA: 0s - loss: 0.0380 - acc: 0.9315Epoch 1/200\n",
            "267/267 [==============================] - 3s 12ms/step - loss: 0.0380 - acc: 0.9314 - val_loss: 0.0426 - val_acc: 0.8700\n",
            "Epoch 96/200\n",
            "263/267 [============================>.] - ETA: 0s - loss: 0.0378 - acc: 0.9268Epoch 1/200\n",
            "267/267 [==============================] - 3s 12ms/step - loss: 0.0378 - acc: 0.9264 - val_loss: 0.0424 - val_acc: 0.8850\n",
            "Epoch 97/200\n",
            "263/267 [============================>.] - ETA: 0s - loss: 0.0372 - acc: 0.9401Epoch 1/200\n",
            "267/267 [==============================] - 3s 12ms/step - loss: 0.0372 - acc: 0.9403 - val_loss: 0.0431 - val_acc: 0.8750\n",
            "Epoch 98/200\n",
            "265/267 [============================>.] - ETA: 0s - loss: 0.0365 - acc: 0.9377Epoch 1/200\n",
            "267/267 [==============================] - 3s 12ms/step - loss: 0.0365 - acc: 0.9378 - val_loss: 0.0417 - val_acc: 0.8750\n",
            "Epoch 99/200\n",
            "263/267 [============================>.] - ETA: 0s - loss: 0.0369 - acc: 0.9333Epoch 1/200\n",
            "267/267 [==============================] - 3s 12ms/step - loss: 0.0369 - acc: 0.9331 - val_loss: 0.0418 - val_acc: 0.8650\n",
            "Epoch 100/200\n",
            "262/267 [============================>.] - ETA: 0s - loss: 0.0360 - acc: 0.9403Epoch 1/200\n",
            "267/267 [==============================] - 3s 12ms/step - loss: 0.0360 - acc: 0.9406 - val_loss: 0.0420 - val_acc: 0.8700\n",
            "Epoch 101/200\n",
            "262/267 [============================>.] - ETA: 0s - loss: 0.0359 - acc: 0.9410Epoch 1/200\n",
            "267/267 [==============================] - 3s 12ms/step - loss: 0.0358 - acc: 0.9418 - val_loss: 0.0408 - val_acc: 0.8900\n",
            "Epoch 102/200\n",
            "263/267 [============================>.] - ETA: 0s - loss: 0.0352 - acc: 0.9426Epoch 1/200\n",
            "267/267 [==============================] - 3s 12ms/step - loss: 0.0353 - acc: 0.9424 - val_loss: 0.0418 - val_acc: 0.8750\n",
            "Epoch 103/200\n",
            "262/267 [============================>.] - ETA: 0s - loss: 0.0349 - acc: 0.9483Epoch 1/200\n",
            "267/267 [==============================] - 3s 12ms/step - loss: 0.0350 - acc: 0.9482 - val_loss: 0.0407 - val_acc: 0.8650\n",
            "Epoch 104/200\n",
            "262/267 [============================>.] - ETA: 0s - loss: 0.0346 - acc: 0.9443Epoch 1/200\n",
            "267/267 [==============================] - 3s 12ms/step - loss: 0.0346 - acc: 0.9442 - val_loss: 0.0398 - val_acc: 0.8950\n",
            "Epoch 105/200\n",
            "262/267 [============================>.] - ETA: 0s - loss: 0.0347 - acc: 0.9424Epoch 1/200\n",
            "267/267 [==============================] - 3s 12ms/step - loss: 0.0347 - acc: 0.9423 - val_loss: 0.0398 - val_acc: 0.8850\n",
            "Epoch 106/200\n",
            "266/267 [============================>.] - ETA: 0s - loss: 0.0338 - acc: 0.9517Epoch 1/200\n",
            "267/267 [==============================] - 3s 12ms/step - loss: 0.0338 - acc: 0.9515 - val_loss: 0.0392 - val_acc: 0.8750\n",
            "Epoch 107/200\n",
            "263/267 [============================>.] - ETA: 0s - loss: 0.0337 - acc: 0.9503Epoch 1/200\n",
            "267/267 [==============================] - 3s 12ms/step - loss: 0.0337 - acc: 0.9503 - val_loss: 0.0397 - val_acc: 0.9000\n",
            "Epoch 108/200\n",
            "262/267 [============================>.] - ETA: 0s - loss: 0.0335 - acc: 0.9491Epoch 1/200\n",
            "267/267 [==============================] - 3s 12ms/step - loss: 0.0336 - acc: 0.9485 - val_loss: 0.0396 - val_acc: 0.8850\n",
            "Epoch 109/200\n",
            "266/267 [============================>.] - ETA: 0s - loss: 0.0331 - acc: 0.9520Epoch 1/200\n",
            "267/267 [==============================] - 3s 12ms/step - loss: 0.0332 - acc: 0.9518 - val_loss: 0.0392 - val_acc: 0.8850\n",
            "Epoch 110/200\n",
            "264/267 [============================>.] - ETA: 0s - loss: 0.0328 - acc: 0.9521Epoch 1/200\n",
            "267/267 [==============================] - 3s 12ms/step - loss: 0.0328 - acc: 0.9519 - val_loss: 0.0382 - val_acc: 0.8650\n",
            "Epoch 111/200\n",
            "263/267 [============================>.] - ETA: 0s - loss: 0.0326 - acc: 0.9546Epoch 1/200\n",
            "267/267 [==============================] - 3s 12ms/step - loss: 0.0326 - acc: 0.9549 - val_loss: 0.0374 - val_acc: 0.8950\n",
            "Epoch 112/200\n",
            "264/267 [============================>.] - ETA: 0s - loss: 0.0325 - acc: 0.9567Epoch 1/200\n",
            "267/267 [==============================] - 3s 12ms/step - loss: 0.0325 - acc: 0.9564 - val_loss: 0.0380 - val_acc: 0.9000\n",
            "Epoch 113/200\n",
            "265/267 [============================>.] - ETA: 0s - loss: 0.0319 - acc: 0.9580Epoch 1/200\n",
            "267/267 [==============================] - 3s 12ms/step - loss: 0.0319 - acc: 0.9576 - val_loss: 0.0373 - val_acc: 0.8800\n",
            "Epoch 114/200\n",
            "264/267 [============================>.] - ETA: 0s - loss: 0.0317 - acc: 0.9586Epoch 1/200\n",
            "267/267 [==============================] - 3s 12ms/step - loss: 0.0317 - acc: 0.9583 - val_loss: 0.0371 - val_acc: 0.9050\n",
            "Epoch 115/200\n",
            "262/267 [============================>.] - ETA: 0s - loss: 0.0314 - acc: 0.9579Epoch 1/200\n",
            "267/267 [==============================] - 3s 12ms/step - loss: 0.0313 - acc: 0.9583 - val_loss: 0.0375 - val_acc: 0.8900\n",
            "Epoch 116/200\n",
            "261/267 [============================>.] - ETA: 0s - loss: 0.0311 - acc: 0.9588Epoch 1/200\n",
            "267/267 [==============================] - 3s 12ms/step - loss: 0.0310 - acc: 0.9578 - val_loss: 0.0393 - val_acc: 0.8950\n",
            "Epoch 117/200\n",
            "266/267 [============================>.] - ETA: 0s - loss: 0.0309 - acc: 0.9633Epoch 1/200\n",
            "267/267 [==============================] - 3s 12ms/step - loss: 0.0309 - acc: 0.9631 - val_loss: 0.0374 - val_acc: 0.8950\n",
            "Epoch 118/200\n",
            "262/267 [============================>.] - ETA: 0s - loss: 0.0305 - acc: 0.9615Epoch 1/200\n",
            "267/267 [==============================] - 3s 12ms/step - loss: 0.0305 - acc: 0.9614 - val_loss: 0.0374 - val_acc: 0.8900\n",
            "Epoch 119/200\n",
            "264/267 [============================>.] - ETA: 0s - loss: 0.0306 - acc: 0.9569Epoch 1/200\n",
            "267/267 [==============================] - 3s 12ms/step - loss: 0.0306 - acc: 0.9574 - val_loss: 0.0372 - val_acc: 0.9050\n",
            "Epoch 120/200\n",
            "263/267 [============================>.] - ETA: 0s - loss: 0.0301 - acc: 0.9600Epoch 1/200\n",
            "267/267 [==============================] - 3s 13ms/step - loss: 0.0300 - acc: 0.9602 - val_loss: 0.0363 - val_acc: 0.9050\n",
            "Epoch 121/200\n",
            "266/267 [============================>.] - ETA: 0s - loss: 0.0299 - acc: 0.9638Epoch 1/200\n",
            "267/267 [==============================] - 3s 12ms/step - loss: 0.0299 - acc: 0.9636 - val_loss: 0.0356 - val_acc: 0.8900\n",
            "Epoch 122/200\n",
            "265/267 [============================>.] - ETA: 0s - loss: 0.0294 - acc: 0.9662Epoch 1/200\n",
            "267/267 [==============================] - 3s 12ms/step - loss: 0.0294 - acc: 0.9661 - val_loss: 0.0367 - val_acc: 0.8750\n",
            "Epoch 123/200\n",
            "264/267 [============================>.] - ETA: 0s - loss: 0.0294 - acc: 0.9631Epoch 1/200\n",
            "267/267 [==============================] - 3s 12ms/step - loss: 0.0294 - acc: 0.9632 - val_loss: 0.0352 - val_acc: 0.8900\n",
            "Epoch 124/200\n",
            "264/267 [============================>.] - ETA: 0s - loss: 0.0294 - acc: 0.9662Epoch 1/200\n",
            "267/267 [==============================] - 3s 12ms/step - loss: 0.0293 - acc: 0.9658 - val_loss: 0.0352 - val_acc: 0.9000\n",
            "Epoch 125/200\n",
            "264/267 [============================>.] - ETA: 0s - loss: 0.0288 - acc: 0.9669Epoch 1/200\n",
            "267/267 [==============================] - 3s 12ms/step - loss: 0.0288 - acc: 0.9673 - val_loss: 0.0352 - val_acc: 0.8950\n",
            "Epoch 126/200\n",
            "263/267 [============================>.] - ETA: 0s - loss: 0.0291 - acc: 0.9648Epoch 1/200\n",
            "267/267 [==============================] - 3s 12ms/step - loss: 0.0291 - acc: 0.9650 - val_loss: 0.0349 - val_acc: 0.9000\n",
            "Epoch 127/200\n",
            "264/267 [============================>.] - ETA: 0s - loss: 0.0281 - acc: 0.9716Epoch 1/200\n",
            "267/267 [==============================] - 3s 12ms/step - loss: 0.0281 - acc: 0.9719 - val_loss: 0.0349 - val_acc: 0.9050\n",
            "Epoch 128/200\n",
            "262/267 [============================>.] - ETA: 0s - loss: 0.0282 - acc: 0.9697Epoch 1/200\n",
            "267/267 [==============================] - 3s 12ms/step - loss: 0.0282 - acc: 0.9687 - val_loss: 0.0345 - val_acc: 0.9050\n",
            "Epoch 129/200\n",
            "264/267 [============================>.] - ETA: 0s - loss: 0.0279 - acc: 0.9696Epoch 1/200\n",
            "267/267 [==============================] - 3s 12ms/step - loss: 0.0279 - acc: 0.9699 - val_loss: 0.0338 - val_acc: 0.8900\n",
            "Epoch 130/200\n",
            "265/267 [============================>.] - ETA: 0s - loss: 0.0277 - acc: 0.9712Epoch 1/200\n",
            "267/267 [==============================] - 3s 12ms/step - loss: 0.0277 - acc: 0.9711 - val_loss: 0.0351 - val_acc: 0.8950\n",
            "Epoch 131/200\n",
            "264/267 [============================>.] - ETA: 0s - loss: 0.0279 - acc: 0.9733Epoch 1/200\n",
            "267/267 [==============================] - 3s 12ms/step - loss: 0.0279 - acc: 0.9732 - val_loss: 0.0341 - val_acc: 0.9000\n",
            "Epoch 132/200\n",
            "266/267 [============================>.] - ETA: 0s - loss: 0.0275 - acc: 0.9713Epoch 1/200\n",
            "267/267 [==============================] - 3s 12ms/step - loss: 0.0275 - acc: 0.9715 - val_loss: 0.0353 - val_acc: 0.9000\n",
            "Epoch 133/200\n",
            "263/267 [============================>.] - ETA: 0s - loss: 0.0269 - acc: 0.9752Epoch 1/200\n",
            "267/267 [==============================] - 3s 12ms/step - loss: 0.0269 - acc: 0.9745 - val_loss: 0.0340 - val_acc: 0.9050\n",
            "Epoch 134/200\n",
            "262/267 [============================>.] - ETA: 0s - loss: 0.0271 - acc: 0.9755Epoch 1/200\n",
            "267/267 [==============================] - 3s 12ms/step - loss: 0.0271 - acc: 0.9756 - val_loss: 0.0350 - val_acc: 0.9050\n",
            "Epoch 135/200\n",
            "264/267 [============================>.] - ETA: 0s - loss: 0.0266 - acc: 0.9752Epoch 1/200\n",
            "267/267 [==============================] - 3s 12ms/step - loss: 0.0266 - acc: 0.9755 - val_loss: 0.0341 - val_acc: 0.9150\n",
            "Epoch 136/200\n",
            "262/267 [============================>.] - ETA: 0s - loss: 0.0268 - acc: 0.9690Epoch 1/200\n",
            "267/267 [==============================] - 3s 12ms/step - loss: 0.0269 - acc: 0.9696 - val_loss: 0.0340 - val_acc: 0.9100\n",
            "Epoch 137/200\n",
            "263/267 [============================>.] - ETA: 0s - loss: 0.0264 - acc: 0.9722Epoch 1/200\n",
            "267/267 [==============================] - 3s 12ms/step - loss: 0.0264 - acc: 0.9726 - val_loss: 0.0331 - val_acc: 0.9250\n",
            "Epoch 138/200\n",
            "263/267 [============================>.] - ETA: 0s - loss: 0.0262 - acc: 0.9729Epoch 1/200\n",
            "267/267 [==============================] - 3s 12ms/step - loss: 0.0262 - acc: 0.9733 - val_loss: 0.0324 - val_acc: 0.9100\n",
            "Epoch 139/200\n",
            "266/267 [============================>.] - ETA: 0s - loss: 0.0265 - acc: 0.9740Epoch 1/200\n",
            "267/267 [==============================] - 3s 12ms/step - loss: 0.0265 - acc: 0.9741 - val_loss: 0.0339 - val_acc: 0.9050\n",
            "Epoch 140/200\n",
            "262/267 [============================>.] - ETA: 0s - loss: 0.0254 - acc: 0.9777Epoch 1/200\n",
            "267/267 [==============================] - 3s 12ms/step - loss: 0.0254 - acc: 0.9778 - val_loss: 0.0333 - val_acc: 0.9050\n",
            "Epoch 141/200\n",
            "265/267 [============================>.] - ETA: 0s - loss: 0.0258 - acc: 0.9762Epoch 1/200\n",
            "267/267 [==============================] - 3s 12ms/step - loss: 0.0258 - acc: 0.9763 - val_loss: 0.0346 - val_acc: 0.9150\n",
            "Epoch 142/200\n",
            "263/267 [============================>.] - ETA: 0s - loss: 0.0256 - acc: 0.9752Epoch 1/200\n",
            "267/267 [==============================] - 3s 12ms/step - loss: 0.0257 - acc: 0.9748 - val_loss: 0.0323 - val_acc: 0.9100\n",
            "Epoch 143/200\n",
            "263/267 [============================>.] - ETA: 0s - loss: 0.0254 - acc: 0.9755Epoch 1/200\n",
            "267/267 [==============================] - 3s 12ms/step - loss: 0.0254 - acc: 0.9751 - val_loss: 0.0324 - val_acc: 0.9200\n",
            "Epoch 144/200\n",
            "265/267 [============================>.] - ETA: 0s - loss: 0.0251 - acc: 0.9777Epoch 1/200\n",
            "267/267 [==============================] - 3s 12ms/step - loss: 0.0251 - acc: 0.9775 - val_loss: 0.0319 - val_acc: 0.9200\n",
            "Epoch 145/200\n",
            "263/267 [============================>.] - ETA: 0s - loss: 0.0249 - acc: 0.9778Epoch 1/200\n",
            "267/267 [==============================] - 3s 13ms/step - loss: 0.0249 - acc: 0.9781 - val_loss: 0.0326 - val_acc: 0.9100\n",
            "Epoch 146/200\n",
            "262/267 [============================>.] - ETA: 0s - loss: 0.0250 - acc: 0.9743Epoch 1/200\n",
            "267/267 [==============================] - 3s 12ms/step - loss: 0.0250 - acc: 0.9741 - val_loss: 0.0324 - val_acc: 0.9200\n",
            "Epoch 147/200\n",
            "264/267 [============================>.] - ETA: 0s - loss: 0.0246 - acc: 0.9772Epoch 1/200\n",
            "267/267 [==============================] - 3s 12ms/step - loss: 0.0246 - acc: 0.9775 - val_loss: 0.0321 - val_acc: 0.9350\n",
            "Epoch 148/200\n",
            "266/267 [============================>.] - ETA: 0s - loss: 0.0245 - acc: 0.9769Epoch 1/200\n",
            "267/267 [==============================] - 3s 12ms/step - loss: 0.0245 - acc: 0.9770 - val_loss: 0.0325 - val_acc: 0.9150\n",
            "Epoch 149/200\n",
            "265/267 [============================>.] - ETA: 0s - loss: 0.0243 - acc: 0.9754Epoch 1/200\n",
            "267/267 [==============================] - 3s 13ms/step - loss: 0.0244 - acc: 0.9752 - val_loss: 0.0316 - val_acc: 0.9250\n",
            "Epoch 150/200\n",
            "263/267 [============================>.] - ETA: 0s - loss: 0.0242 - acc: 0.9767Epoch 1/200\n",
            "267/267 [==============================] - 3s 12ms/step - loss: 0.0242 - acc: 0.9767 - val_loss: 0.0319 - val_acc: 0.9250\n",
            "Epoch 151/200\n",
            "265/267 [============================>.] - ETA: 0s - loss: 0.0244 - acc: 0.9788Epoch 1/200\n",
            "267/267 [==============================] - 3s 12ms/step - loss: 0.0243 - acc: 0.9786 - val_loss: 0.0317 - val_acc: 0.9250\n",
            "Epoch 152/200\n",
            "264/267 [============================>.] - ETA: 0s - loss: 0.0235 - acc: 0.9780Epoch 1/200\n",
            "267/267 [==============================] - 3s 12ms/step - loss: 0.0235 - acc: 0.9778 - val_loss: 0.0324 - val_acc: 0.9200\n",
            "Epoch 153/200\n",
            "263/267 [============================>.] - ETA: 0s - loss: 0.0240 - acc: 0.9793Epoch 1/200\n",
            "267/267 [==============================] - 3s 12ms/step - loss: 0.0240 - acc: 0.9793 - val_loss: 0.0318 - val_acc: 0.9150\n",
            "Epoch 154/200\n",
            "264/267 [============================>.] - ETA: 0s - loss: 0.0236 - acc: 0.9802Epoch 1/200\n",
            "267/267 [==============================] - 3s 12ms/step - loss: 0.0236 - acc: 0.9805 - val_loss: 0.0313 - val_acc: 0.9100\n",
            "Epoch 155/200\n",
            "264/267 [============================>.] - ETA: 0s - loss: 0.0236 - acc: 0.9795Epoch 1/200\n",
            "267/267 [==============================] - 3s 12ms/step - loss: 0.0236 - acc: 0.9797 - val_loss: 0.0305 - val_acc: 0.9250\n",
            "Epoch 156/200\n",
            "262/267 [============================>.] - ETA: 0s - loss: 0.0229 - acc: 0.9808Epoch 1/200\n",
            "267/267 [==============================] - 3s 12ms/step - loss: 0.0229 - acc: 0.9808 - val_loss: 0.0305 - val_acc: 0.9150\n",
            "Epoch 157/200\n",
            "261/267 [============================>.] - ETA: 0s - loss: 0.0233 - acc: 0.9796Epoch 1/200\n",
            "267/267 [==============================] - 3s 12ms/step - loss: 0.0234 - acc: 0.9793 - val_loss: 0.0315 - val_acc: 0.9100\n",
            "Epoch 158/200\n",
            "263/267 [============================>.] - ETA: 0s - loss: 0.0230 - acc: 0.9802Epoch 1/200\n",
            "267/267 [==============================] - 3s 12ms/step - loss: 0.0230 - acc: 0.9805 - val_loss: 0.0309 - val_acc: 0.9250\n",
            "Epoch 159/200\n",
            "262/267 [============================>.] - ETA: 0s - loss: 0.0228 - acc: 0.9805Epoch 1/200\n",
            "267/267 [==============================] - 3s 12ms/step - loss: 0.0229 - acc: 0.9801 - val_loss: 0.0317 - val_acc: 0.9200\n",
            "Epoch 160/200\n",
            "265/267 [============================>.] - ETA: 0s - loss: 0.0227 - acc: 0.9811Epoch 1/200\n",
            "267/267 [==============================] - 3s 12ms/step - loss: 0.0228 - acc: 0.9808 - val_loss: 0.0305 - val_acc: 0.9300\n",
            "Epoch 161/200\n",
            "266/267 [============================>.] - ETA: 0s - loss: 0.0227 - acc: 0.9796Epoch 1/200\n",
            "267/267 [==============================] - 3s 12ms/step - loss: 0.0227 - acc: 0.9797 - val_loss: 0.0312 - val_acc: 0.9250\n",
            "Epoch 162/200\n",
            "266/267 [============================>.] - ETA: 0s - loss: 0.0224 - acc: 0.9829Epoch 1/200\n",
            "267/267 [==============================] - 3s 12ms/step - loss: 0.0224 - acc: 0.9830 - val_loss: 0.0314 - val_acc: 0.9100\n",
            "Epoch 163/200\n",
            "262/267 [============================>.] - ETA: 0s - loss: 0.0226 - acc: 0.9809Epoch 1/200\n",
            "267/267 [==============================] - 3s 12ms/step - loss: 0.0226 - acc: 0.9812 - val_loss: 0.0332 - val_acc: 0.9050\n",
            "Epoch 164/200\n",
            "265/267 [============================>.] - ETA: 0s - loss: 0.0221 - acc: 0.9833Epoch 1/200\n",
            "267/267 [==============================] - 3s 12ms/step - loss: 0.0221 - acc: 0.9835 - val_loss: 0.0308 - val_acc: 0.9200\n",
            "Epoch 165/200\n",
            "264/267 [============================>.] - ETA: 0s - loss: 0.0220 - acc: 0.9821Epoch 1/200\n",
            "267/267 [==============================] - 3s 12ms/step - loss: 0.0221 - acc: 0.9820 - val_loss: 0.0297 - val_acc: 0.9250\n",
            "Epoch 166/200\n",
            "266/267 [============================>.] - ETA: 0s - loss: 0.0219 - acc: 0.9811Epoch 1/200\n",
            "267/267 [==============================] - 3s 12ms/step - loss: 0.0219 - acc: 0.9812 - val_loss: 0.0305 - val_acc: 0.9300\n",
            "Epoch 167/200\n",
            "263/267 [============================>.] - ETA: 0s - loss: 0.0221 - acc: 0.9832Epoch 1/200\n",
            "267/267 [==============================] - 3s 12ms/step - loss: 0.0221 - acc: 0.9831 - val_loss: 0.0296 - val_acc: 0.9300\n",
            "Epoch 168/200\n",
            "262/267 [============================>.] - ETA: 0s - loss: 0.0215 - acc: 0.9832Epoch 1/200\n",
            "267/267 [==============================] - 3s 12ms/step - loss: 0.0215 - acc: 0.9835 - val_loss: 0.0304 - val_acc: 0.9050\n",
            "Epoch 169/200\n",
            "263/267 [============================>.] - ETA: 0s - loss: 0.0215 - acc: 0.9828Epoch 1/200\n",
            "267/267 [==============================] - 3s 12ms/step - loss: 0.0216 - acc: 0.9827 - val_loss: 0.0299 - val_acc: 0.9250\n",
            "Epoch 170/200\n",
            "264/267 [============================>.] - ETA: 0s - loss: 0.0218 - acc: 0.9809Epoch 1/200\n",
            "267/267 [==============================] - 3s 12ms/step - loss: 0.0218 - acc: 0.9811 - val_loss: 0.0297 - val_acc: 0.9300\n",
            "Epoch 171/200\n",
            "263/267 [============================>.] - ETA: 0s - loss: 0.0211 - acc: 0.9856Epoch 1/200\n",
            "267/267 [==============================] - 3s 12ms/step - loss: 0.0210 - acc: 0.9858 - val_loss: 0.0292 - val_acc: 0.9250\n",
            "Epoch 172/200\n",
            "265/267 [============================>.] - ETA: 0s - loss: 0.0215 - acc: 0.9826Epoch 1/200\n",
            "267/267 [==============================] - 3s 12ms/step - loss: 0.0215 - acc: 0.9820 - val_loss: 0.0300 - val_acc: 0.9200\n",
            "Epoch 173/200\n",
            "263/267 [============================>.] - ETA: 0s - loss: 0.0211 - acc: 0.9816Epoch 1/200\n",
            "267/267 [==============================] - 3s 12ms/step - loss: 0.0211 - acc: 0.9819 - val_loss: 0.0295 - val_acc: 0.9200\n",
            "Epoch 174/200\n",
            "265/267 [============================>.] - ETA: 0s - loss: 0.0209 - acc: 0.9841Epoch 1/200\n",
            "267/267 [==============================] - 3s 12ms/step - loss: 0.0208 - acc: 0.9842 - val_loss: 0.0300 - val_acc: 0.9200\n",
            "Epoch 175/200\n",
            "265/267 [============================>.] - ETA: 0s - loss: 0.0210 - acc: 0.9833Epoch 1/200\n",
            "267/267 [==============================] - 3s 12ms/step - loss: 0.0210 - acc: 0.9835 - val_loss: 0.0282 - val_acc: 0.9300\n",
            "Epoch 176/200\n",
            "263/267 [============================>.] - ETA: 0s - loss: 0.0207 - acc: 0.9836Epoch 1/200\n",
            "267/267 [==============================] - 3s 12ms/step - loss: 0.0207 - acc: 0.9827 - val_loss: 0.0294 - val_acc: 0.9100\n",
            "Epoch 177/200\n",
            "263/267 [============================>.] - ETA: 0s - loss: 0.0208 - acc: 0.9840Epoch 1/200\n",
            "267/267 [==============================] - 3s 11ms/step - loss: 0.0208 - acc: 0.9842 - val_loss: 0.0282 - val_acc: 0.9300\n",
            "Epoch 178/200\n",
            "264/267 [============================>.] - ETA: 0s - loss: 0.0205 - acc: 0.9856Epoch 1/200\n",
            "267/267 [==============================] - 3s 12ms/step - loss: 0.0205 - acc: 0.9857 - val_loss: 0.0285 - val_acc: 0.9400\n",
            "Epoch 179/200\n",
            "262/267 [============================>.] - ETA: 0s - loss: 0.0206 - acc: 0.9851Epoch 1/200\n",
            "267/267 [==============================] - 3s 12ms/step - loss: 0.0206 - acc: 0.9846 - val_loss: 0.0296 - val_acc: 0.9200\n",
            "Epoch 180/200\n",
            "263/267 [============================>.] - ETA: 0s - loss: 0.0203 - acc: 0.9851Epoch 1/200\n",
            "267/267 [==============================] - 3s 12ms/step - loss: 0.0203 - acc: 0.9849 - val_loss: 0.0282 - val_acc: 0.9300\n",
            "Epoch 181/200\n",
            "266/267 [============================>.] - ETA: 0s - loss: 0.0204 - acc: 0.9827Epoch 1/200\n",
            "267/267 [==============================] - 3s 12ms/step - loss: 0.0204 - acc: 0.9828 - val_loss: 0.0282 - val_acc: 0.9250\n",
            "Epoch 182/200\n",
            "264/267 [============================>.] - ETA: 0s - loss: 0.0200 - acc: 0.9851Epoch 1/200\n",
            "267/267 [==============================] - 3s 12ms/step - loss: 0.0200 - acc: 0.9853 - val_loss: 0.0290 - val_acc: 0.9250\n",
            "Epoch 183/200\n",
            "263/267 [============================>.] - ETA: 0s - loss: 0.0201 - acc: 0.9836Epoch 1/200\n",
            "267/267 [==============================] - 3s 12ms/step - loss: 0.0201 - acc: 0.9838 - val_loss: 0.0282 - val_acc: 0.9300\n",
            "Epoch 184/200\n",
            "265/267 [============================>.] - ETA: 0s - loss: 0.0199 - acc: 0.9852Epoch 1/200\n",
            "267/267 [==============================] - 3s 12ms/step - loss: 0.0199 - acc: 0.9853 - val_loss: 0.0280 - val_acc: 0.9300\n",
            "Epoch 185/200\n",
            "261/267 [============================>.] - ETA: 0s - loss: 0.0197 - acc: 0.9874Epoch 1/200\n",
            "267/267 [==============================] - 3s 12ms/step - loss: 0.0197 - acc: 0.9872 - val_loss: 0.0290 - val_acc: 0.9200\n",
            "Epoch 186/200\n",
            "266/267 [============================>.] - ETA: 0s - loss: 0.0201 - acc: 0.9815Epoch 1/200\n",
            "267/267 [==============================] - 3s 12ms/step - loss: 0.0201 - acc: 0.9816 - val_loss: 0.0295 - val_acc: 0.9250\n",
            "Epoch 187/200\n",
            "265/267 [============================>.] - ETA: 0s - loss: 0.0195 - acc: 0.9849Epoch 1/200\n",
            "267/267 [==============================] - 3s 13ms/step - loss: 0.0195 - acc: 0.9850 - val_loss: 0.0291 - val_acc: 0.9350\n",
            "Epoch 188/200\n",
            "264/267 [============================>.] - ETA: 0s - loss: 0.0193 - acc: 0.9886Epoch 1/200\n",
            "267/267 [==============================] - 3s 12ms/step - loss: 0.0193 - acc: 0.9887 - val_loss: 0.0283 - val_acc: 0.9300\n",
            "Epoch 189/200\n",
            "263/267 [============================>.] - ETA: 0s - loss: 0.0198 - acc: 0.9844Epoch 1/200\n",
            "267/267 [==============================] - 3s 12ms/step - loss: 0.0198 - acc: 0.9846 - val_loss: 0.0282 - val_acc: 0.9350\n",
            "Epoch 190/200\n",
            "265/267 [============================>.] - ETA: 0s - loss: 0.0195 - acc: 0.9856Epoch 1/200\n",
            "267/267 [==============================] - 3s 12ms/step - loss: 0.0194 - acc: 0.9853 - val_loss: 0.0278 - val_acc: 0.9300\n",
            "Epoch 191/200\n",
            "266/267 [============================>.] - ETA: 0s - loss: 0.0191 - acc: 0.9845Epoch 1/200\n",
            "267/267 [==============================] - 3s 12ms/step - loss: 0.0190 - acc: 0.9846 - val_loss: 0.0278 - val_acc: 0.9350\n",
            "Epoch 192/200\n",
            "264/267 [============================>.] - ETA: 0s - loss: 0.0195 - acc: 0.9863Epoch 1/200\n",
            "267/267 [==============================] - 3s 12ms/step - loss: 0.0195 - acc: 0.9865 - val_loss: 0.0273 - val_acc: 0.9300\n",
            "Epoch 193/200\n",
            "262/267 [============================>.] - ETA: 0s - loss: 0.0190 - acc: 0.9874Epoch 1/200\n",
            "267/267 [==============================] - 3s 12ms/step - loss: 0.0190 - acc: 0.9869 - val_loss: 0.0268 - val_acc: 0.9350\n",
            "Epoch 194/200\n",
            "264/267 [============================>.] - ETA: 0s - loss: 0.0192 - acc: 0.9863Epoch 1/200\n",
            "267/267 [==============================] - 3s 12ms/step - loss: 0.0192 - acc: 0.9864 - val_loss: 0.0275 - val_acc: 0.9350\n",
            "Epoch 195/200\n",
            "264/267 [============================>.] - ETA: 0s - loss: 0.0188 - acc: 0.9863Epoch 1/200\n",
            "267/267 [==============================] - 3s 12ms/step - loss: 0.0189 - acc: 0.9861 - val_loss: 0.0272 - val_acc: 0.9300\n",
            "Epoch 196/200\n",
            "263/267 [============================>.] - ETA: 0s - loss: 0.0188 - acc: 0.9870Epoch 1/200\n",
            "267/267 [==============================] - 3s 12ms/step - loss: 0.0188 - acc: 0.9872 - val_loss: 0.0273 - val_acc: 0.9350\n",
            "Epoch 197/200\n",
            "262/267 [============================>.] - ETA: 0s - loss: 0.0188 - acc: 0.9874Epoch 1/200\n",
            "267/267 [==============================] - 3s 12ms/step - loss: 0.0189 - acc: 0.9869 - val_loss: 0.0267 - val_acc: 0.9600\n",
            "Epoch 198/200\n",
            "262/267 [============================>.] - ETA: 0s - loss: 0.0188 - acc: 0.9873Epoch 1/200\n",
            "267/267 [==============================] - 3s 12ms/step - loss: 0.0188 - acc: 0.9876 - val_loss: 0.0270 - val_acc: 0.9300\n",
            "Epoch 199/200\n",
            "266/267 [============================>.] - ETA: 0s - loss: 0.0185 - acc: 0.9876Epoch 1/200\n",
            "267/267 [==============================] - 3s 12ms/step - loss: 0.0185 - acc: 0.9876 - val_loss: 0.0268 - val_acc: 0.9300\n",
            "Epoch 200/200\n",
            "266/267 [============================>.] - ETA: 0s - loss: 0.0187 - acc: 0.9876Epoch 1/200\n",
            "267/267 [==============================] - 3s 12ms/step - loss: 0.0187 - acc: 0.9876 - val_loss: 0.0274 - val_acc: 0.9500\n"
          ],
          "name": "stdout"
        }
      ]
    },
    {
      "cell_type": "markdown",
      "metadata": {
        "id": "r3EOWWJzfOXD",
        "colab_type": "text"
      },
      "source": [
        "# Lets see how we did\n"
      ]
    },
    {
      "cell_type": "code",
      "metadata": {
        "colab_type": "code",
        "id": "d28dhbFpr98b",
        "outputId": "775468c8-14ee-4ad3-ccc4-a982ed0afb31",
        "colab": {
          "base_uri": "https://localhost:8080/",
          "height": 499
        }
      },
      "source": [
        "acc = history.history['acc']\n",
        "val_acc = history.history['val_acc']\n",
        "\n",
        "loss = history.history['loss']\n",
        "val_loss = history.history['val_loss']\n",
        "\n",
        "epochs_range = range(EPOCHS)\n",
        "\n",
        "plt.figure(figsize=(8, 8))\n",
        "plt.subplot(1, 2, 1)\n",
        "plt.plot(epochs_range, acc, label='Training Accuracy')\n",
        "plt.plot(epochs_range, val_acc, label='Validation Accuracy')\n",
        "plt.legend(loc='lower right')\n",
        "plt.title('Training and Validation Accuracy')\n",
        "\n",
        "plt.subplot(1, 2, 2)\n",
        "plt.plot(epochs_range, loss, label='Training Loss')\n",
        "plt.plot(epochs_range, val_loss, label='Validation Loss')\n",
        "plt.legend(loc='upper right')\n",
        "plt.title('Training and Validation Loss')\n",
        "plt.show()"
      ],
      "execution_count": 13,
      "outputs": [
        {
          "output_type": "display_data",
          "data": {
            "image/png": "[encoded data removed]",
            "text/plain": [
              "<Figure size 576x576 with 2 Axes>"
            ]
          },
          "metadata": {
            "tags": []
          }
        }
      ]
    },
    {
      "cell_type": "markdown",
      "metadata": {
        "id": "lpR7-axtgr7G",
        "colab_type": "text"
      },
      "source": [
        "As shown by the graph there is not much of an improvement after 150 *epochs*"
      ]
    },
    {
      "cell_type": "markdown",
      "metadata": {
        "colab_type": "text",
        "id": "B375_jqQhck_"
      },
      "source": [
        "# What were the failure cases\n",
        "here i am displaying a small sample of the cases where there was a mis classification"
      ]
    },
    {
      "cell_type": "code",
      "metadata": {
        "colab_type": "code",
        "id": "mtJjG7UdhTmR",
        "outputId": "7dc36028-ee65-47c5-fb40-eb24a05d6085",
        "colab": {
          "base_uri": "https://localhost:8080/",
          "height": 64
        }
      },
      "source": [
        "from keras.preprocessing import image\n",
        "for i in range(140):\n",
        "\n",
        "  img = image.load_img('/content/digits/4/crdigit'+str(600+i)+'.png', target_size=(30, 30))\n",
        "  x = image.img_to_array(img)\n",
        "  x = np.expand_dims(x, axis=0)\n",
        "  images = np.vstack([x])\n",
        "  classes = model.predict_classes(images, batch_size=1)\n",
        "\n",
        "  if (CLASS_NAMES[classes[0]] !='4'):\n",
        "        display.display(Image.open('/content/digits/4/crdigit'+str(600+i)+'.png'))\n",
        "        print(CLASS_NAMES[classes[0]])\n",
        "  \n"
      ],
      "execution_count": 14,
      "outputs": [
        {
          "output_type": "display_data",
          "data": {
            "image/png": "[encoded data removed]",
            "text/plain": [
              "<PIL.PngImagePlugin.PngImageFile image mode=1 size=30x30 at 0x7FA7124C2390>"
            ]
          },
          "metadata": {
            "tags": []
          }
        },
        {
          "output_type": "stream",
          "text": [
            "6\n"
          ],
          "name": "stdout"
        }
      ]
    },
    {
      "cell_type": "markdown",
      "metadata": {
        "id": "EFc9Ro4Ftl_L",
        "colab_type": "text"
      },
      "source": [
        "# Save model"
      ]
    },
    {
      "cell_type": "code",
      "metadata": {
        "id": "GfUlbmDpjayE",
        "colab_type": "code",
        "cellView": "both",
        "colab": {}
      },
      "source": [
        "\n",
        "model.save('clasifyDigits.h5') \n",
        "\n"
      ],
      "execution_count": 0,
      "outputs": []
    }
  ]
}
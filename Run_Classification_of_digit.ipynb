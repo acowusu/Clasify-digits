{
  "nbformat": 4,
  "nbformat_minor": 0,
  "metadata": {
    "colab": {
      "name": "Run Classification of digit.ipynb",
      "provenance": [],
      "include_colab_link": true
    },
    "kernelspec": {
      "name": "python3",
      "display_name": "Python 3"
    }
  },
  "cells": [
    {
      "cell_type": "markdown",
      "metadata": {
        "id": "view-in-github",
        "colab_type": "text"
      },
      "source": [
        "<a href=\"https://colab.research.google.com/github/penguinprogramer/Clasify-digits/blob/master/Run_Classification_of_digit.ipynb\" target=\"_parent\"><img src=\"https://colab.research.google.com/assets/colab-badge.svg\" alt=\"Open In Colab\"/></a>"
      ]
    },
    {
      "cell_type": "code",
      "metadata": {
        "id": "DCMU3FgYmyba",
        "colab_type": "code",
        "colab": {
          "base_uri": "https://localhost:8080/",
          "height": 166
        },
        "outputId": "21ee6777-be43-48c7-830f-7b6d22040c2b"
      },
      "source": [
        "!curl -O https://fadedace-gci.web.app/clasifyDigits.h5\n",
        "!curl -O https://fadedace-gci.web.app/121.png \n",
        "\n",
        "#import libs\n",
        "import tensorflow as tf\n",
        "import numpy as np\n",
        "import IPython.display as display\n",
        "from PIL import Image\n",
        "\n",
        "\n",
        "\n",
        "\n",
        "\n",
        "\n",
        "\n",
        "CLASS_NAME = ['5' ,'1', '7', '9' ,'2', '4' ,'3' ,'0', '6', '8'] # so we can access the class name of the result\n",
        "\n",
        "imgpath = '121.png' #@param {type: \"string\"}\n",
        "model = tf.keras.models.load_model('/content/clasifyDigits.h5')\n",
        "img = image.load_img(imgpath, target_size=(30, 30)) # load image so we can run predication\n",
        "x = image.img_to_array(img)\n",
        "x = np.expand_dims(x, axis=0)\n",
        "images = np.vstack([x])\n",
        "classes = model.predict_classes(images, batch_size=1)\n",
        "display.display(Image.open(imgpath))\n",
        "print(\"The model predicts that this digit is a \"+ CLASS_NAME[classes[0]] )"
      ],
      "execution_count": 9,
      "outputs": [
        {
          "output_type": "stream",
          "text": [
            "  % Total    % Received % Xferd  Average Speed   Time    Time     Time  Current\n",
            "                                 Dload  Upload   Total   Spent    Left  Speed\n",
            "100  242k  100  242k    0     0  2856k      0 --:--:-- --:--:-- --:--:-- 2856k\n",
            "  % Total    % Received % Xferd  Average Speed   Time    Time     Time  Current\n",
            "                                 Dload  Upload   Total   Spent    Left  Speed\n",
            "100 25021  100 25021    0     0   461k      0 --:--:-- --:--:-- --:--:--  461k\n"
          ],
          "name": "stdout"
        },
        {
          "output_type": "display_data",
          "data": {
            "image/png": "[encoded data removed]",
            "text/plain": [
              "<PIL.PngImagePlugin.PngImageFile image mode=1 size=30x30 at 0x7F16C5FF5CC0>"
            ]
          },
          "metadata": {
            "tags": []
          }
        },
        {
          "output_type": "stream",
          "text": [
            "The model predicts that this digit is a 9\n"
          ],
          "name": "stdout"
        }
      ]
    }
  ]
}
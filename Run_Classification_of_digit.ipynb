{
  "nbformat": 4,
  "nbformat_minor": 0,
  "metadata": {
    "colab": {
      "name": "Run Classification of digit.ipynb",
      "provenance": [],
      "include_colab_link": true
    },
    "kernelspec": {
      "name": "python3",
      "display_name": "Python 3"
    }
  },
  "cells": [
    {
      "cell_type": "markdown",
      "metadata": {
        "id": "view-in-github",
        "colab_type": "text"
      },
      "source": [
        "<a href=\"https://colab.research.google.com/github/penguinprogramer/Clasify-digits/blob/master/Run_Classification_of_digit.ipynb\" target=\"_parent\"><img src=\"https://colab.research.google.com/assets/colab-badge.svg\" alt=\"Open In Colab\"/></a>"
      ]
    },
    {
      "cell_type": "code",
      "metadata": {
        "id": "DCMU3FgYmyba",
        "colab_type": "code",
        "outputId": "f75dcdd7-b19b-44c6-fcab-61d49c918ed1",
        "colab": {
          "base_uri": "https://localhost:8080/",
          "height": 166
        }
      },
      "source": [
        "!curl -O https://fadedace-gci.web.app/clasifyDigits.h5\n",
        "!curl -O https://fadedace-gci.web.app/121.png \n",
        "\n",
        "#import libs\n",
        "import tensorflow as tf\n",
        "import numpy as np\n",
        "import IPython.display as display\n",
        "from PIL import Image\n",
        "from keras.preprocessing import image\n",
        "\n",
        "\n",
        "\n",
        "\n",
        "\n",
        "\n",
        "\n",
        "CLASS_NAME = ['5' ,'1', '7', '9' ,'2', '4' ,'3' ,'0', '6', '8'] # so we can access the class name of the result\n",
        "\n",
        "imgpath = '81.png' #@param {type: \"string\"}\n",
        "model = tf.keras.models.load_model('/content/clasifyDigits.h5')\n",
        "img = image.load_img(imgpath, target_size=(30, 30)) # load image so we can run predication\n",
        "x = image.img_to_array(img)\n",
        "x = np.expand_dims(x, axis=0)\n",
        "images = np.vstack([x])\n",
        "classes = model.predict_classes(images, batch_size=1)\n",
        "display.display(Image.open(imgpath))\n",
        "print(\"The model predicts that this digit is a \"+ CLASS_NAME[classes[0]] )"
      ],
      "execution_count": 0,
      "outputs": [
        {
          "output_type": "stream",
          "text": [
            "  % Total    % Received % Xferd  Average Speed   Time    Time     Time  Current\n",
            "                                 Dload  Upload   Total   Spent    Left  Speed\n",
            "100  242k  100  242k    0     0  5059k      0 --:--:-- --:--:-- --:--:-- 5059k\n",
            "  % Total    % Received % Xferd  Average Speed   Time    Time     Time  Current\n",
            "                                 Dload  Upload   Total   Spent    Left  Speed\n",
            "100 25021  100 25021    0     0   678k      0 --:--:-- --:--:-- --:--:--  678k\n"
          ],
          "name": "stdout"
        },
        {
          "output_type": "display_data",
          "data": {
            "image/png": "[encoded data removed]",
            "text/plain": [
              "<PIL.PngImagePlugin.PngImageFile image mode=1 size=30x30 at 0x7F833268C518>"
            ]
          },
          "metadata": {
            "tags": []
          }
        },
        {
          "output_type": "stream",
          "text": [
            "The model predicts that this digit is a 8\n"
          ],
          "name": "stdout"
        }
      ]
    }
  ]
}